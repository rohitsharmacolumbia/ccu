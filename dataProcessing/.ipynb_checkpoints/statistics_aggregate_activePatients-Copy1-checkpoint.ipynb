{
 "cells": [
  {
   "cell_type": "code",
   "execution_count": 1,
   "metadata": {},
   "outputs": [],
   "source": [
    "import sys\n",
    "import pandas\n",
    "import numpy as np"
   ]
  },
  {
   "cell_type": "code",
   "execution_count": 2,
   "metadata": {},
   "outputs": [],
   "source": [
    "import pandas as pd\n",
    "import matplotlib.pyplot as plt\n",
    "%matplotlib inline\n",
    "plt.rcParams['figure.figsize'] = (15, 5)\n",
    "plt.rcParams['font.family'] = 'sans-serif'\n",
    "plt.style.use('ggplot')"
   ]
  },
  {
   "cell_type": "code",
   "execution_count": 3,
   "metadata": {},
   "outputs": [
    {
     "name": "stdout",
     "output_type": "stream",
     "text": [
      "Requirement already satisfied: openpyxl in /anaconda3/lib/python3.7/site-packages (2.6.2)\r\n",
      "Requirement already satisfied: jdcal in /anaconda3/lib/python3.7/site-packages (from openpyxl) (1.4.1)\r\n",
      "Requirement already satisfied: et-xmlfile in /anaconda3/lib/python3.7/site-packages (from openpyxl) (1.0.1)\r\n"
     ]
    }
   ],
   "source": [
    "#!pip install pandas\n",
    "#!pip install xlrd\n",
    "!pip install openpyxl"
   ]
  },
  {
   "cell_type": "code",
   "execution_count": 4,
   "metadata": {},
   "outputs": [
    {
     "name": "stdout",
     "output_type": "stream",
     "text": [
      "Current absolute path is\n",
      "/Users/chloeymoon/Documents/Columbia/CCU-database-repo/dataProcessing\n"
     ]
    }
   ],
   "source": [
    "# input data\n",
    "# stale path = '/Users/ksaniee/Desktop/CCU_data/CCU-database-repo/data/'\n",
    "import os\n",
    "print(\"Current absolute path is\")\n",
    "print(os.path.abspath(\".\"))"
   ]
  },
  {
   "cell_type": "code",
   "execution_count": 5,
   "metadata": {},
   "outputs": [
    {
     "name": "stdout",
     "output_type": "stream",
     "text": [
      "..\n",
      "../data/dataIn/\n"
     ]
    }
   ],
   "source": [
    "path = '..' #back to root from dataProcessing\n",
    "pathToRooth = '..'\n",
    "print(pathToRooth)\n",
    "pathToDataIn = pathToRooth + '/data/dataIn/'\n",
    "print(pathToDataIn)"
   ]
  },
  {
   "cell_type": "code",
   "execution_count": 6,
   "metadata": {},
   "outputs": [],
   "source": [
    "filename = 'CCU_patientData_allPatients_active.xlsx'\n",
    "sheetname = 'patientData'\n",
    "\n",
    "with pd.ExcelFile(pathToDataIn+filename) as xls:\n",
    "#with pd.ExcelFile(path+'data/dataIn/'+filename) as xls:\n",
    "    df = pd.read_excel(xls, sheetname, index_col=None, na_values=['NA'])"
   ]
  },
  {
   "cell_type": "markdown",
   "metadata": {},
   "source": [
    "# Process Function "
   ]
  },
  {
   "cell_type": "code",
   "execution_count": 48,
   "metadata": {},
   "outputs": [],
   "source": [
    "def process(date):\n",
    "    # patients in CCU are not yet discharged\n",
    "    current_patients = df['CCU Discharge Date Formatted'].isna()\n",
    "    \n",
    "    # alternatively, use: current_patients = df['CCU Status']=='In CCU'\n",
    "    # calculate average days of intubation for intubated patients\n",
    "    intubated = ~df[current_patients]['Date of intubation'].isna()\n",
    "    still_intubated = df[current_patients][intubated]['Date of extubation or trach'].isna()\n",
    "    \n",
    "    days_intubated = df[current_patients][intubated]['Date of extubation or trach'].fillna(date) - pd.to_datetime(df[current_patients][intubated]['Date of intubation'])\n",
    "    days_still_intubated = date - df[current_patients][intubated][still_intubated]['Date of intubation']\n",
    "    \n",
    "    # replace dots with NaN\n",
    "    df['Start Date of Paralytics'] = df['Start Date of Paralytics'].replace('.',np.nan)\n",
    "    df['Date started CVVH'] = df['Date started CVVH'].replace('.',np.nan)\n",
    "    df['End date for CVVH'] = df['End date for CVVH'].replace('.',np.nan)\n",
    "    \n",
    "    # calculate average days of paralysis for paralyzed patients \n",
    "    paralyzed = ~df[current_patients]['Start Date of Paralytics'].isna()\n",
    "    days_paralyzed = df[current_patients][paralyzed]['Stop date of paralytics'].fillna(date) - pd.to_datetime(df[current_patients][paralyzed]['Start Date of Paralytics'])\n",
    "    still_paralyzed = df[current_patients][paralyzed]['Stop date of paralytics'].isna()\n",
    "    days_still_paralyzed = date - df[current_patients][paralyzed][still_paralyzed]['Start Date of Paralytics']\n",
    "\n",
    "    # calculate average days on CVVH\n",
    "    def try_date(d):\n",
    "        try: return pd.to_datetime(d)\n",
    "        except: return np.nan\n",
    "\n",
    "    cvvh = ~df[current_patients]['Date started CVVH'].isna()\n",
    "    still_cvvh = df[current_patients][cvvh]['End date for CVVH'].isna()\n",
    "    days_cvvh = df[current_patients][cvvh]['End date for CVVH'].apply(try_date).fillna(date) - pd.to_datetime(df[current_patients][cvvh]['Date started CVVH'])\n",
    "    days_still_cvvh = date - df[current_patients][cvvh][still_cvvh]['Date started CVVH']\n",
    "    \n",
    "    rec = pd.DataFrame(\n",
    "    [df[current_patients].shape[0],                       # Number_of_patients_in_CCUs\n",
    "     df[current_patients]['Age'].mean(),                  # Age_average\n",
    "     (df[current_patients]['Gender']=='M').sum(),         # Gender_M\n",
    "     (df[current_patients]['Gender']=='F').sum(),         # Gender_F\n",
    "     (df[current_patients]['Race']=='Asian/Indian').sum(), # Race_AsianIndian\n",
    "     (df[current_patients]['Race']=='Black').sum(),        # Race_Black\n",
    "     (df[current_patients]['Race']=='White').sum(),        # Race_White\n",
    "     (df[current_patients]['Race']=='Other').sum(),        # Race_Other\n",
    "     (df[current_patients]['Race']=='Declined').sum(),     # Race_Declined\n",
    "     (df[current_patients]['Ethnicity']=='Declined').sum(), # Ethnicity_Declined\n",
    "     (df[current_patients]['Ethnicity']=='Hispanic').sum(), # Ethnicity_Hispanic\n",
    "     (df[current_patients]['Ethnicity']=='Not Hispanic').sum(), # Ethnicity_NotHispanic\n",
    "     (df[current_patients]['CCU Location']=='MCCU').sum(),      # CCU_Location_MCCU\n",
    "     (df[current_patients]['CCU Location']=='HCCU').sum(),      # CCU_Location_HCCU\n",
    "     df[current_patients]['CCU LOS'].mean(),                    # CCU_LOS_Average_onToday\n",
    "     (df[current_patients]['COVID+ (Y/N/NT not tested)']=='Y').sum(), # COVID+_Y\n",
    "     (df[current_patients]['COVID+ (Y/N/NT not tested)']=='N').sum(), # COVID+_N\n",
    "     (df[current_patients]['COVID+ (Y/N/NT not tested)']=='NT').sum(), # COVID+_NT\n",
    "     (df[current_patients]['Intubated']=='Yes').sum(),                 # Intubated_Y\n",
    "     (df[current_patients]['Intubated']=='No').sum(),                  # Intubated_N\n",
    "     (df[current_patients]['Trach (Yes/No)']=='Yes').sum(),            # Trach_(Yes/No)_Y\n",
    "     (df[current_patients]['Trach (Yes/No)']=='No').sum(),            # Trach_(Yes/No)_N\n",
    "     days_still_intubated.apply(lambda x: x/np.timedelta64(1,'D')).mean(),  # Days_Intubated_average_numberOfDays\n",
    "     (df[current_patients]['Known to CHF Formatted']=='CHF').sum(),   # Known_to_CHF_service_Y \n",
    "     (df[current_patients]['Known to CHF Formatted']=='No').sum(),    # Known_to_CHF_service_N\n",
    "     (df[current_patients]['Mechanical Support Formatted']=='IABP').sum(), # Mechanical_support_Y-IABP\n",
    "     (df[current_patients]['Mechanical Support Formatted']=='No').sum(), # Mechanical_support_N\n",
    "     (~df[current_patients]['Start Date of Paralytics'].isna()).sum(), # Paralytics_while_in_CCU_Y\n",
    "     (df[current_patients]['Start Date of Paralytics'].isna()).sum(),  # Paralytics_while_in_CCU_N\n",
    "     days_still_paralyzed.apply(lambda x: x/np.timedelta64(1,'D')).mean(),  # Days_Paralyzed_average\n",
    "     days_paralyzed.apply(lambda x: x/np.timedelta64(1,'D')).mean(),  # Days_Paralyzed_total\n",
    "     (~df[current_patients]['Date started CVVH'].isna()).sum(),       # CVVH (y/n)_Y\n",
    "     (df[current_patients]['Date started CVVH'].isna()).sum(),       # CVVH (y/n)_N\n",
    "     days_still_cvvh.apply(lambda x: x/np.timedelta64(1,'D')).mean(),      # Days_on_CVVH_average\n",
    "     (df[current_patients]['Proned']=='Y').sum(),                     # Proned_Y\n",
    "     (df[current_patients]['Proned']=='N').sum(),                     # Proned_N\n",
    "     (df[current_patients]['iNo']=='Y').sum(),                        # iNo_Y\n",
    "     (df[current_patients]['iNo']=='N').sum()],                        # iNo_N\n",
    "     index=['Number_of_patients_in_CCUs','Age_average','Gender_M','Gender_F','Race_AsianIndian',\n",
    "          'Race_Black','Race_White','Race_Other','Race_Declined','Ethnicity_Declined',\n",
    "          'Ethnicity_Hispanic','Ethnicity_NotHispanic','CCU_Location_MCCU','CCU_Location_HCCU',\n",
    "          'CCU_LOS_Average_onToday','COVID+_Y','COVID+_N','COVID+_NT','Intubated_Y','Intubated_N',\n",
    "          'Trach_(Yes/No)_Y','Trach_(Yes/No)_N','Days_Intubated_average_numberOfDays',\n",
    "          'Known_to_CHF_service_Y','Known_to_CHF_service_N','Mechanical_support_Y-IABP','Mechanical_support_N',\n",
    "            'Paralytics_while_in_CCU_Y','Paralytics_while_in_CCU_N', 'Days_Paralyzed_average','Days_Paralyzed_total','CVVH (y/n)_Y','CVVH (y/n)_N','Days_on_CVVH_average',\n",
    "            'Proned_Y','Proned_N','iNo_Y','iNo_N'],\n",
    "    columns=[date]).T \n",
    "    return rec\n",
    "\n",
    "from datetime import datetime\n",
    "\n",
    "### final dataframe includes all days\n",
    "dates = [ col for col in df.columns if isinstance(col, datetime) ]\n",
    "final = pd.concat([ process(date) for date in dates ])"
   ]
  },
  {
   "cell_type": "code",
   "execution_count": null,
   "metadata": {},
   "outputs": [],
   "source": [
    "# write record to spreadsheet\n",
    "\n",
    "pathToDataOut = pathToRooth + '/data/dataOut/'\n",
    "#outfile = path+'dataOut/'+'CCU_patientStatistics_aggregate_active_test.xlsx'\n",
    "#outfile = pathToDataOut+'CCU_patientStatistics_aggregate_active_test.xlsx'\n",
    "outfile = pathToDataOut+'CCU_patientStatistics_aggregate_active.xlsx'\n",
    "\n",
    "rec.to_excel(outfile,sheet_name='patientStatisticsDaily')"
   ]
  },
  {
   "cell_type": "markdown",
   "metadata": {},
   "source": [
    "# Histogram outputs"
   ]
  },
  {
   "cell_type": "markdown",
   "metadata": {},
   "source": [
    "Notes:\n",
    "\n",
    "'Discharged to' currently has no entries among current patients\n",
    "\n",
    "Issue with 'Deceased Y/N (In CCU)' column name needs to be resolved (remove line break)\n",
    "\n",
    "Are any machines shared between patients?\n",
    "\n",
    "What is the Hospital Status field?\n",
    "\n",
    "Does Marwah actually want the Days_Paralyzed_total as an aggregate measure, or total days for each paralyzed patient? Same for CVVH, Intubated."
   ]
  },
  {
   "cell_type": "code",
   "execution_count": null,
   "metadata": {},
   "outputs": [],
   "source": []
  }
 ],
 "metadata": {
  "kernelspec": {
   "display_name": "Python 3",
   "language": "python",
   "name": "python3"
  },
  "language_info": {
   "codemirror_mode": {
    "name": "ipython",
    "version": 3
   },
   "file_extension": ".py",
   "mimetype": "text/x-python",
   "name": "python",
   "nbconvert_exporter": "python",
   "pygments_lexer": "ipython3",
   "version": "3.7.3"
  }
 },
 "nbformat": 4,
 "nbformat_minor": 4
}
